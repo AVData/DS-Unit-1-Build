{
  "nbformat": 4,
  "nbformat_minor": 0,
  "metadata": {
    "colab": {
      "name": "Sleep Data notebook.ipynb",
      "provenance": [],
      "collapsed_sections": [],
      "include_colab_link": true
    },
    "kernelspec": {
      "name": "python3",
      "display_name": "Python 3"
    }
  },
  "cells": [
    {
      "cell_type": "markdown",
      "metadata": {
        "id": "view-in-github",
        "colab_type": "text"
      },
      "source": [
        "<a href=\"https://colab.research.google.com/github/AVData/DS-Unit-1-Build/blob/master/DS-Unit-1-Build/Agustin%20Vargas-Sleep_Data_notebook.ipynb\" target=\"_parent\"><img src=\"https://colab.research.google.com/assets/colab-badge.svg\" alt=\"Open In Colab\"/></a>"
      ]
    },
    {
      "cell_type": "code",
      "metadata": {
        "id": "1TCa7RG4CwZb",
        "colab_type": "code",
        "colab": {}
      },
      "source": [
        "import pandas as pd\n",
        "import numpy as np"
      ],
      "execution_count": 0,
      "outputs": []
    },
    {
      "cell_type": "code",
      "metadata": {
        "id": "qbJxaQUCCzDb",
        "colab_type": "code",
        "outputId": "25180520-6140-40f1-f048-41e8f4be5b1c",
        "colab": {
          "base_uri": "https://localhost:8080/",
          "height": 1000
        }
      },
      "source": [
        "sc_sleep_data = pd.read_csv('/content/Build wk 1/sleepdata.csv', delimiter=';')\n",
        "sc_sleep_data.head(20)"
      ],
      "execution_count": 437,
      "outputs": [
        {
          "output_type": "execute_result",
          "data": {
            "text/html": [
              "<div>\n",
              "<style scoped>\n",
              "    .dataframe tbody tr th:only-of-type {\n",
              "        vertical-align: middle;\n",
              "    }\n",
              "\n",
              "    .dataframe tbody tr th {\n",
              "        vertical-align: top;\n",
              "    }\n",
              "\n",
              "    .dataframe thead th {\n",
              "        text-align: right;\n",
              "    }\n",
              "</style>\n",
              "<table border=\"1\" class=\"dataframe\">\n",
              "  <thead>\n",
              "    <tr style=\"text-align: right;\">\n",
              "      <th></th>\n",
              "      <th>Start</th>\n",
              "      <th>End</th>\n",
              "      <th>Sleep quality</th>\n",
              "      <th>Time in bed</th>\n",
              "      <th>Wake up</th>\n",
              "      <th>Sleep Notes</th>\n",
              "      <th>Heart rate</th>\n",
              "      <th>Activity (steps)</th>\n",
              "    </tr>\n",
              "  </thead>\n",
              "  <tbody>\n",
              "    <tr>\n",
              "      <th>0</th>\n",
              "      <td>2018-08-21 00:17:44</td>\n",
              "      <td>2018-08-21 06:31:59</td>\n",
              "      <td>55%</td>\n",
              "      <td>6:14</td>\n",
              "      <td>NaN</td>\n",
              "      <td>NaN</td>\n",
              "      <td>0</td>\n",
              "      <td>0</td>\n",
              "    </tr>\n",
              "    <tr>\n",
              "      <th>1</th>\n",
              "      <td>2018-08-22 00:08:58</td>\n",
              "      <td>2018-08-22 06:48:15</td>\n",
              "      <td>77%</td>\n",
              "      <td>6:39</td>\n",
              "      <td>NaN</td>\n",
              "      <td>NaN</td>\n",
              "      <td>0</td>\n",
              "      <td>0</td>\n",
              "    </tr>\n",
              "    <tr>\n",
              "      <th>2</th>\n",
              "      <td>2018-08-23 00:26:59</td>\n",
              "      <td>2018-08-23 05:14:15</td>\n",
              "      <td>57%</td>\n",
              "      <td>4:47</td>\n",
              "      <td>NaN</td>\n",
              "      <td>NaN</td>\n",
              "      <td>0</td>\n",
              "      <td>0</td>\n",
              "    </tr>\n",
              "    <tr>\n",
              "      <th>3</th>\n",
              "      <td>2018-08-26 02:22:35</td>\n",
              "      <td>2018-08-26 06:25:43</td>\n",
              "      <td>35%</td>\n",
              "      <td>4:03</td>\n",
              "      <td>NaN</td>\n",
              "      <td>NaN</td>\n",
              "      <td>0</td>\n",
              "      <td>0</td>\n",
              "    </tr>\n",
              "    <tr>\n",
              "      <th>4</th>\n",
              "      <td>2018-08-27 00:54:25</td>\n",
              "      <td>2018-08-27 08:24:27</td>\n",
              "      <td>62%</td>\n",
              "      <td>7:30</td>\n",
              "      <td>NaN</td>\n",
              "      <td>NaN</td>\n",
              "      <td>0</td>\n",
              "      <td>0</td>\n",
              "    </tr>\n",
              "    <tr>\n",
              "      <th>5</th>\n",
              "      <td>2018-08-28 00:23:26</td>\n",
              "      <td>2018-08-28 06:12:45</td>\n",
              "      <td>63%</td>\n",
              "      <td>5:49</td>\n",
              "      <td>:)</td>\n",
              "      <td>NaN</td>\n",
              "      <td>0</td>\n",
              "      <td>291</td>\n",
              "    </tr>\n",
              "    <tr>\n",
              "      <th>6</th>\n",
              "      <td>2018-08-29 05:45:04</td>\n",
              "      <td>2018-08-29 07:33:17</td>\n",
              "      <td>23%</td>\n",
              "      <td>1:48</td>\n",
              "      <td>:)</td>\n",
              "      <td>NaN</td>\n",
              "      <td>0</td>\n",
              "      <td>2013</td>\n",
              "    </tr>\n",
              "    <tr>\n",
              "      <th>7</th>\n",
              "      <td>2018-08-31 01:18:08</td>\n",
              "      <td>2018-08-31 06:31:26</td>\n",
              "      <td>55%</td>\n",
              "      <td>5:13</td>\n",
              "      <td>:|</td>\n",
              "      <td>NaN</td>\n",
              "      <td>0</td>\n",
              "      <td>757</td>\n",
              "    </tr>\n",
              "    <tr>\n",
              "      <th>8</th>\n",
              "      <td>2018-09-01 05:32:35</td>\n",
              "      <td>2018-09-01 07:32:03</td>\n",
              "      <td>15%</td>\n",
              "      <td>1:59</td>\n",
              "      <td>:|</td>\n",
              "      <td>NaN</td>\n",
              "      <td>0</td>\n",
              "      <td>1222</td>\n",
              "    </tr>\n",
              "    <tr>\n",
              "      <th>9</th>\n",
              "      <td>2018-09-02 01:22:20</td>\n",
              "      <td>2018-09-02 08:02:47</td>\n",
              "      <td>71%</td>\n",
              "      <td>6:40</td>\n",
              "      <td>:)</td>\n",
              "      <td>NaN</td>\n",
              "      <td>0</td>\n",
              "      <td>1420</td>\n",
              "    </tr>\n",
              "    <tr>\n",
              "      <th>10</th>\n",
              "      <td>2018-09-04 01:08:49</td>\n",
              "      <td>2018-09-04 06:25:11</td>\n",
              "      <td>54%</td>\n",
              "      <td>5:16</td>\n",
              "      <td>:(</td>\n",
              "      <td>NaN</td>\n",
              "      <td>0</td>\n",
              "      <td>667</td>\n",
              "    </tr>\n",
              "    <tr>\n",
              "      <th>11</th>\n",
              "      <td>2018-09-05 01:22:11</td>\n",
              "      <td>2018-09-05 06:41:47</td>\n",
              "      <td>60%</td>\n",
              "      <td>5:19</td>\n",
              "      <td>:)</td>\n",
              "      <td>NaN</td>\n",
              "      <td>0</td>\n",
              "      <td>1271</td>\n",
              "    </tr>\n",
              "    <tr>\n",
              "      <th>12</th>\n",
              "      <td>2018-09-06 01:43:04</td>\n",
              "      <td>2018-09-06 06:17:20</td>\n",
              "      <td>49%</td>\n",
              "      <td>4:34</td>\n",
              "      <td>:)</td>\n",
              "      <td>NaN</td>\n",
              "      <td>0</td>\n",
              "      <td>1742</td>\n",
              "    </tr>\n",
              "    <tr>\n",
              "      <th>13</th>\n",
              "      <td>2018-09-06 06:39:06</td>\n",
              "      <td>2018-09-06 07:42:15</td>\n",
              "      <td>14%</td>\n",
              "      <td>1:03</td>\n",
              "      <td>:|</td>\n",
              "      <td>NaN</td>\n",
              "      <td>0</td>\n",
              "      <td>0</td>\n",
              "    </tr>\n",
              "    <tr>\n",
              "      <th>14</th>\n",
              "      <td>2018-09-07 01:08:47</td>\n",
              "      <td>2018-09-07 06:01:47</td>\n",
              "      <td>54%</td>\n",
              "      <td>4:53</td>\n",
              "      <td>:)</td>\n",
              "      <td>NaN</td>\n",
              "      <td>0</td>\n",
              "      <td>1194</td>\n",
              "    </tr>\n",
              "    <tr>\n",
              "      <th>15</th>\n",
              "      <td>2018-09-07 06:18:29</td>\n",
              "      <td>2018-09-07 07:09:46</td>\n",
              "      <td>11%</td>\n",
              "      <td>0:51</td>\n",
              "      <td>:)</td>\n",
              "      <td>NaN</td>\n",
              "      <td>0</td>\n",
              "      <td>0</td>\n",
              "    </tr>\n",
              "    <tr>\n",
              "      <th>16</th>\n",
              "      <td>2018-09-08 01:41:00</td>\n",
              "      <td>2018-09-08 08:24:45</td>\n",
              "      <td>68%</td>\n",
              "      <td>6:43</td>\n",
              "      <td>:)</td>\n",
              "      <td>NaN</td>\n",
              "      <td>0</td>\n",
              "      <td>335</td>\n",
              "    </tr>\n",
              "    <tr>\n",
              "      <th>17</th>\n",
              "      <td>2018-09-09 02:37:51</td>\n",
              "      <td>2018-09-09 08:42:33</td>\n",
              "      <td>61%</td>\n",
              "      <td>6:04</td>\n",
              "      <td>:)</td>\n",
              "      <td>NaN</td>\n",
              "      <td>0</td>\n",
              "      <td>1420</td>\n",
              "    </tr>\n",
              "    <tr>\n",
              "      <th>18</th>\n",
              "      <td>2018-09-10 07:03:52</td>\n",
              "      <td>2018-09-10 07:59:08</td>\n",
              "      <td>12%</td>\n",
              "      <td>0:55</td>\n",
              "      <td>:)</td>\n",
              "      <td>NaN</td>\n",
              "      <td>0</td>\n",
              "      <td>0</td>\n",
              "    </tr>\n",
              "    <tr>\n",
              "      <th>19</th>\n",
              "      <td>2018-09-10 08:21:32</td>\n",
              "      <td>2018-09-10 08:44:09</td>\n",
              "      <td>5%</td>\n",
              "      <td>0:22</td>\n",
              "      <td>:|</td>\n",
              "      <td>NaN</td>\n",
              "      <td>0</td>\n",
              "      <td>0</td>\n",
              "    </tr>\n",
              "  </tbody>\n",
              "</table>\n",
              "</div>"
            ],
            "text/plain": [
              "                  Start                  End  ... Heart rate Activity (steps)\n",
              "0   2018-08-21 00:17:44  2018-08-21 06:31:59  ...          0                0\n",
              "1   2018-08-22 00:08:58  2018-08-22 06:48:15  ...          0                0\n",
              "2   2018-08-23 00:26:59  2018-08-23 05:14:15  ...          0                0\n",
              "3   2018-08-26 02:22:35  2018-08-26 06:25:43  ...          0                0\n",
              "4   2018-08-27 00:54:25  2018-08-27 08:24:27  ...          0                0\n",
              "5   2018-08-28 00:23:26  2018-08-28 06:12:45  ...          0              291\n",
              "6   2018-08-29 05:45:04  2018-08-29 07:33:17  ...          0             2013\n",
              "7   2018-08-31 01:18:08  2018-08-31 06:31:26  ...          0              757\n",
              "8   2018-09-01 05:32:35  2018-09-01 07:32:03  ...          0             1222\n",
              "9   2018-09-02 01:22:20  2018-09-02 08:02:47  ...          0             1420\n",
              "10  2018-09-04 01:08:49  2018-09-04 06:25:11  ...          0              667\n",
              "11  2018-09-05 01:22:11  2018-09-05 06:41:47  ...          0             1271\n",
              "12  2018-09-06 01:43:04  2018-09-06 06:17:20  ...          0             1742\n",
              "13  2018-09-06 06:39:06  2018-09-06 07:42:15  ...          0                0\n",
              "14  2018-09-07 01:08:47  2018-09-07 06:01:47  ...          0             1194\n",
              "15  2018-09-07 06:18:29  2018-09-07 07:09:46  ...          0                0\n",
              "16  2018-09-08 01:41:00  2018-09-08 08:24:45  ...          0              335\n",
              "17  2018-09-09 02:37:51  2018-09-09 08:42:33  ...          0             1420\n",
              "18  2018-09-10 07:03:52  2018-09-10 07:59:08  ...          0                0\n",
              "19  2018-09-10 08:21:32  2018-09-10 08:44:09  ...          0                0\n",
              "\n",
              "[20 rows x 8 columns]"
            ]
          },
          "metadata": {
            "tags": []
          },
          "execution_count": 437
        }
      ]
    },
    {
      "cell_type": "code",
      "metadata": {
        "id": "70_RtH4RFowr",
        "colab_type": "code",
        "colab": {
          "base_uri": "https://localhost:8080/",
          "height": 170
        },
        "outputId": "6ff3eacc-c514-4e2d-ca7a-7841058c4ae4"
      },
      "source": [
        "sc_sleep_data.isnull().any()"
      ],
      "execution_count": 438,
      "outputs": [
        {
          "output_type": "execute_result",
          "data": {
            "text/plain": [
              "Start               False\n",
              "End                 False\n",
              "Sleep quality       False\n",
              "Time in bed         False\n",
              "Wake up              True\n",
              "Sleep Notes          True\n",
              "Heart rate          False\n",
              "Activity (steps)    False\n",
              "dtype: bool"
            ]
          },
          "metadata": {
            "tags": []
          },
          "execution_count": 438
        }
      ]
    },
    {
      "cell_type": "code",
      "metadata": {
        "id": "vQdaCHOMDXUE",
        "colab_type": "code",
        "outputId": "0474c3c0-cd48-400a-e4f1-488fc5862aa9",
        "colab": {
          "base_uri": "https://localhost:8080/",
          "height": 170
        }
      },
      "source": [
        "sc_sleep_data.isnull().sum()"
      ],
      "execution_count": 439,
      "outputs": [
        {
          "output_type": "execute_result",
          "data": {
            "text/plain": [
              "Start                 0\n",
              "End                   0\n",
              "Sleep quality         0\n",
              "Time in bed           0\n",
              "Wake up             227\n",
              "Sleep Notes         242\n",
              "Heart rate            0\n",
              "Activity (steps)      0\n",
              "dtype: int64"
            ]
          },
          "metadata": {
            "tags": []
          },
          "execution_count": 439
        }
      ]
    },
    {
      "cell_type": "code",
      "metadata": {
        "id": "DQuVSulqD8Rl",
        "colab_type": "code",
        "colab": {
          "base_uri": "https://localhost:8080/",
          "height": 221
        },
        "outputId": "2376c2c8-5410-476f-a66f-7d314a22ac07"
      },
      "source": [
        "test_replace = sc_sleep_data['Wake up'].map({':|': 0, ':)': 1, ':(': -1})\n",
        "print(test_replace.describe())\n",
        "test_replace.isnull().value_counts()"
      ],
      "execution_count": 440,
      "outputs": [
        {
          "output_type": "stream",
          "text": [
            "count    192.000000\n",
            "mean       0.177083\n",
            "std        0.501198\n",
            "min       -1.000000\n",
            "25%        0.000000\n",
            "50%        0.000000\n",
            "75%        0.000000\n",
            "max        1.000000\n",
            "Name: Wake up, dtype: float64\n"
          ],
          "name": "stdout"
        },
        {
          "output_type": "execute_result",
          "data": {
            "text/plain": [
              "True     227\n",
              "False    192\n",
              "Name: Wake up, dtype: int64"
            ]
          },
          "metadata": {
            "tags": []
          },
          "execution_count": 440
        }
      ]
    },
    {
      "cell_type": "code",
      "metadata": {
        "id": "MpXNJGF4Mceq",
        "colab_type": "code",
        "colab": {
          "base_uri": "https://localhost:8080/",
          "height": 170
        },
        "outputId": "232b12c4-8239-48bc-d7d7-58beb9a1d13f"
      },
      "source": [
        "sc_sleep_data['Wake up'] = sc_sleep_data['Wake up'].map({':|': 0, ':)': 1, ':(': -1})\n",
        "sc_sleep_data['Wake up'].describe()"
      ],
      "execution_count": 441,
      "outputs": [
        {
          "output_type": "execute_result",
          "data": {
            "text/plain": [
              "count    192.000000\n",
              "mean       0.177083\n",
              "std        0.501198\n",
              "min       -1.000000\n",
              "25%        0.000000\n",
              "50%        0.000000\n",
              "75%        0.000000\n",
              "max        1.000000\n",
              "Name: Wake up, dtype: float64"
            ]
          },
          "metadata": {
            "tags": []
          },
          "execution_count": 441
        }
      ]
    },
    {
      "cell_type": "code",
      "metadata": {
        "id": "EMFA716INQB8",
        "colab_type": "code",
        "colab": {
          "base_uri": "https://localhost:8080/",
          "height": 85
        },
        "outputId": "f84445b6-0802-409a-e744-45a1a0cdb3c5"
      },
      "source": [
        "print(sc_sleep_data['Wake up'].isnull().value_counts(), '\\n')\n"
      ],
      "execution_count": 442,
      "outputs": [
        {
          "output_type": "stream",
          "text": [
            "True     227\n",
            "False    192\n",
            "Name: Wake up, dtype: int64 \n",
            "\n"
          ],
          "name": "stdout"
        }
      ]
    },
    {
      "cell_type": "code",
      "metadata": {
        "id": "sFysjzhENgA5",
        "colab_type": "code",
        "colab": {
          "base_uri": "https://localhost:8080/",
          "height": 170
        },
        "outputId": "27ce726e-bcd2-4357-fdac-a14363f3902a"
      },
      "source": [
        "# replacing the NaN values in columns 'Wake up' and 'Sleep Notes' with the \n",
        "# column mean\n",
        "\n",
        "sc_sleep_data['Wake up'] = sc_sleep_data['Wake up'].fillna(sc_sleep_data['Wake up'].mean())\n",
        "sc_sleep_data['Wake up'].describe()"
      ],
      "execution_count": 443,
      "outputs": [
        {
          "output_type": "execute_result",
          "data": {
            "text/plain": [
              "count    419.000000\n",
              "mean       0.177083\n",
              "std        0.338796\n",
              "min       -1.000000\n",
              "25%        0.000000\n",
              "50%        0.177083\n",
              "75%        0.177083\n",
              "max        1.000000\n",
              "Name: Wake up, dtype: float64"
            ]
          },
          "metadata": {
            "tags": []
          },
          "execution_count": 443
        }
      ]
    },
    {
      "cell_type": "code",
      "metadata": {
        "id": "869kHl67W_Zc",
        "colab_type": "code",
        "colab": {
          "base_uri": "https://localhost:8080/",
          "height": 51
        },
        "outputId": "c0903317-b7d5-4fd8-c1b7-8911417dca0a"
      },
      "source": [
        "sc_sleep_data['Wake up'].isnull().value_counts()"
      ],
      "execution_count": 444,
      "outputs": [
        {
          "output_type": "execute_result",
          "data": {
            "text/plain": [
              "False    419\n",
              "Name: Wake up, dtype: int64"
            ]
          },
          "metadata": {
            "tags": []
          },
          "execution_count": 444
        }
      ]
    },
    {
      "cell_type": "code",
      "metadata": {
        "id": "KAru8KbLSuk6",
        "colab_type": "code",
        "colab": {
          "base_uri": "https://localhost:8080/",
          "height": 297
        },
        "outputId": "1327d2de-59e7-47d4-8214-d05d00cdb9c3"
      },
      "source": [
        "# Dropping the 'Heart rate' column\n",
        "\n",
        "sc_sleep_data = sc_sleep_data.drop(columns='Heart rate')\n",
        "sc_sleep_data.describe()"
      ],
      "execution_count": 445,
      "outputs": [
        {
          "output_type": "execute_result",
          "data": {
            "text/html": [
              "<div>\n",
              "<style scoped>\n",
              "    .dataframe tbody tr th:only-of-type {\n",
              "        vertical-align: middle;\n",
              "    }\n",
              "\n",
              "    .dataframe tbody tr th {\n",
              "        vertical-align: top;\n",
              "    }\n",
              "\n",
              "    .dataframe thead th {\n",
              "        text-align: right;\n",
              "    }\n",
              "</style>\n",
              "<table border=\"1\" class=\"dataframe\">\n",
              "  <thead>\n",
              "    <tr style=\"text-align: right;\">\n",
              "      <th></th>\n",
              "      <th>Wake up</th>\n",
              "      <th>Activity (steps)</th>\n",
              "    </tr>\n",
              "  </thead>\n",
              "  <tbody>\n",
              "    <tr>\n",
              "      <th>count</th>\n",
              "      <td>419.000000</td>\n",
              "      <td>419.000000</td>\n",
              "    </tr>\n",
              "    <tr>\n",
              "      <th>mean</th>\n",
              "      <td>0.177083</td>\n",
              "      <td>2046.940334</td>\n",
              "    </tr>\n",
              "    <tr>\n",
              "      <th>std</th>\n",
              "      <td>0.338796</td>\n",
              "      <td>2163.332875</td>\n",
              "    </tr>\n",
              "    <tr>\n",
              "      <th>min</th>\n",
              "      <td>-1.000000</td>\n",
              "      <td>0.000000</td>\n",
              "    </tr>\n",
              "    <tr>\n",
              "      <th>25%</th>\n",
              "      <td>0.000000</td>\n",
              "      <td>657.000000</td>\n",
              "    </tr>\n",
              "    <tr>\n",
              "      <th>50%</th>\n",
              "      <td>0.177083</td>\n",
              "      <td>1748.000000</td>\n",
              "    </tr>\n",
              "    <tr>\n",
              "      <th>75%</th>\n",
              "      <td>0.177083</td>\n",
              "      <td>2845.500000</td>\n",
              "    </tr>\n",
              "    <tr>\n",
              "      <th>max</th>\n",
              "      <td>1.000000</td>\n",
              "      <td>20264.000000</td>\n",
              "    </tr>\n",
              "  </tbody>\n",
              "</table>\n",
              "</div>"
            ],
            "text/plain": [
              "          Wake up  Activity (steps)\n",
              "count  419.000000        419.000000\n",
              "mean     0.177083       2046.940334\n",
              "std      0.338796       2163.332875\n",
              "min     -1.000000          0.000000\n",
              "25%      0.000000        657.000000\n",
              "50%      0.177083       1748.000000\n",
              "75%      0.177083       2845.500000\n",
              "max      1.000000      20264.000000"
            ]
          },
          "metadata": {
            "tags": []
          },
          "execution_count": 445
        }
      ]
    },
    {
      "cell_type": "code",
      "metadata": {
        "id": "XenaAQgrXMAZ",
        "colab_type": "code",
        "colab": {
          "base_uri": "https://localhost:8080/",
          "height": 119
        },
        "outputId": "569ec3e1-4328-4bbc-dc25-d2e22030c2dc"
      },
      "source": [
        "# converting percentages to floats\n",
        "\n",
        "sc_sleep_data['Sleep quality'] = sc_sleep_data['Sleep quality'].str.rstrip('%').astype('float') / 100\n",
        "sc_sleep_data['Sleep quality'].head()"
      ],
      "execution_count": 446,
      "outputs": [
        {
          "output_type": "execute_result",
          "data": {
            "text/plain": [
              "0    0.55\n",
              "1    0.77\n",
              "2    0.57\n",
              "3    0.35\n",
              "4    0.62\n",
              "Name: Sleep quality, dtype: float64"
            ]
          },
          "metadata": {
            "tags": []
          },
          "execution_count": 446
        }
      ]
    },
    {
      "cell_type": "code",
      "metadata": {
        "id": "I6_vZYPLZjQ_",
        "colab_type": "code",
        "colab": {
          "base_uri": "https://localhost:8080/",
          "height": 221
        },
        "outputId": "9fa6cd83-0e93-4300-b3ae-d771459dc770"
      },
      "source": [
        "sc_sleep_data.info()"
      ],
      "execution_count": 447,
      "outputs": [
        {
          "output_type": "stream",
          "text": [
            "<class 'pandas.core.frame.DataFrame'>\n",
            "RangeIndex: 419 entries, 0 to 418\n",
            "Data columns (total 7 columns):\n",
            "Start               419 non-null object\n",
            "End                 419 non-null object\n",
            "Sleep quality       419 non-null float64\n",
            "Time in bed         419 non-null object\n",
            "Wake up             419 non-null float64\n",
            "Sleep Notes         177 non-null object\n",
            "Activity (steps)    419 non-null int64\n",
            "dtypes: float64(2), int64(1), object(4)\n",
            "memory usage: 23.0+ KB\n"
          ],
          "name": "stdout"
        }
      ]
    },
    {
      "cell_type": "code",
      "metadata": {
        "id": "amTQJkX2fX2R",
        "colab_type": "code",
        "colab": {
          "base_uri": "https://localhost:8080/",
          "height": 34
        },
        "outputId": "7aa92c8c-914d-489e-8d8b-444ea869ce17"
      },
      "source": [
        "# Leaving this for a bit later.  Working on datetime column\n",
        "\n",
        "np.dtype(sc_sleep_data['Sleep Notes'])"
      ],
      "execution_count": 448,
      "outputs": [
        {
          "output_type": "execute_result",
          "data": {
            "text/plain": [
              "dtype('O')"
            ]
          },
          "metadata": {
            "tags": []
          },
          "execution_count": 448
        }
      ]
    },
    {
      "cell_type": "code",
      "metadata": {
        "id": "LvbKu4MDsow8",
        "colab_type": "code",
        "colab": {
          "base_uri": "https://localhost:8080/",
          "height": 102
        },
        "outputId": "1e84edf6-95bd-4c5f-a8c3-62c77b194ea5"
      },
      "source": [
        "# Looking to create a column of days\n",
        "\n",
        "sc_sleep_data['Start'].describe()"
      ],
      "execution_count": 449,
      "outputs": [
        {
          "output_type": "execute_result",
          "data": {
            "text/plain": [
              "count                     419\n",
              "unique                    419\n",
              "top       2019-07-29 06:04:52\n",
              "freq                        1\n",
              "Name: Start, dtype: object"
            ]
          },
          "metadata": {
            "tags": []
          },
          "execution_count": 449
        }
      ]
    },
    {
      "cell_type": "code",
      "metadata": {
        "id": "HU9pgAyJ-ZSe",
        "colab_type": "code",
        "colab": {}
      },
      "source": [
        "# # Test to find day of the week\n",
        "# copy_1_date = pd.Timestamp(sc_sleep_data['Start'][0])\n",
        "\n",
        "# copy_1_date.dayofweek"
      ],
      "execution_count": 0,
      "outputs": []
    },
    {
      "cell_type": "code",
      "metadata": {
        "id": "lW-kjkN3_Bbj",
        "colab_type": "code",
        "colab": {
          "base_uri": "https://localhost:8080/",
          "height": 1000
        },
        "outputId": "0b43ca3b-4c18-4116-9f17-7e5cde30b879"
      },
      "source": [
        "sc_sleep_data['Weekday'] =  pd.to_datetime(sc_sleep_data['Start'], infer_datetime_format=True)\n",
        "sc_sleep_data['Weekday'] = sc_sleep_data['Weekday'].apply(lambda time: time.dayofweek)\n",
        "sc_sleep_data.head(20)"
      ],
      "execution_count": 451,
      "outputs": [
        {
          "output_type": "execute_result",
          "data": {
            "text/html": [
              "<div>\n",
              "<style scoped>\n",
              "    .dataframe tbody tr th:only-of-type {\n",
              "        vertical-align: middle;\n",
              "    }\n",
              "\n",
              "    .dataframe tbody tr th {\n",
              "        vertical-align: top;\n",
              "    }\n",
              "\n",
              "    .dataframe thead th {\n",
              "        text-align: right;\n",
              "    }\n",
              "</style>\n",
              "<table border=\"1\" class=\"dataframe\">\n",
              "  <thead>\n",
              "    <tr style=\"text-align: right;\">\n",
              "      <th></th>\n",
              "      <th>Start</th>\n",
              "      <th>End</th>\n",
              "      <th>Sleep quality</th>\n",
              "      <th>Time in bed</th>\n",
              "      <th>Wake up</th>\n",
              "      <th>Sleep Notes</th>\n",
              "      <th>Activity (steps)</th>\n",
              "      <th>Weekday</th>\n",
              "    </tr>\n",
              "  </thead>\n",
              "  <tbody>\n",
              "    <tr>\n",
              "      <th>0</th>\n",
              "      <td>2018-08-21 00:17:44</td>\n",
              "      <td>2018-08-21 06:31:59</td>\n",
              "      <td>0.55</td>\n",
              "      <td>6:14</td>\n",
              "      <td>0.177083</td>\n",
              "      <td>NaN</td>\n",
              "      <td>0</td>\n",
              "      <td>1</td>\n",
              "    </tr>\n",
              "    <tr>\n",
              "      <th>1</th>\n",
              "      <td>2018-08-22 00:08:58</td>\n",
              "      <td>2018-08-22 06:48:15</td>\n",
              "      <td>0.77</td>\n",
              "      <td>6:39</td>\n",
              "      <td>0.177083</td>\n",
              "      <td>NaN</td>\n",
              "      <td>0</td>\n",
              "      <td>2</td>\n",
              "    </tr>\n",
              "    <tr>\n",
              "      <th>2</th>\n",
              "      <td>2018-08-23 00:26:59</td>\n",
              "      <td>2018-08-23 05:14:15</td>\n",
              "      <td>0.57</td>\n",
              "      <td>4:47</td>\n",
              "      <td>0.177083</td>\n",
              "      <td>NaN</td>\n",
              "      <td>0</td>\n",
              "      <td>3</td>\n",
              "    </tr>\n",
              "    <tr>\n",
              "      <th>3</th>\n",
              "      <td>2018-08-26 02:22:35</td>\n",
              "      <td>2018-08-26 06:25:43</td>\n",
              "      <td>0.35</td>\n",
              "      <td>4:03</td>\n",
              "      <td>0.177083</td>\n",
              "      <td>NaN</td>\n",
              "      <td>0</td>\n",
              "      <td>6</td>\n",
              "    </tr>\n",
              "    <tr>\n",
              "      <th>4</th>\n",
              "      <td>2018-08-27 00:54:25</td>\n",
              "      <td>2018-08-27 08:24:27</td>\n",
              "      <td>0.62</td>\n",
              "      <td>7:30</td>\n",
              "      <td>0.177083</td>\n",
              "      <td>NaN</td>\n",
              "      <td>0</td>\n",
              "      <td>0</td>\n",
              "    </tr>\n",
              "    <tr>\n",
              "      <th>5</th>\n",
              "      <td>2018-08-28 00:23:26</td>\n",
              "      <td>2018-08-28 06:12:45</td>\n",
              "      <td>0.63</td>\n",
              "      <td>5:49</td>\n",
              "      <td>1.000000</td>\n",
              "      <td>NaN</td>\n",
              "      <td>291</td>\n",
              "      <td>1</td>\n",
              "    </tr>\n",
              "    <tr>\n",
              "      <th>6</th>\n",
              "      <td>2018-08-29 05:45:04</td>\n",
              "      <td>2018-08-29 07:33:17</td>\n",
              "      <td>0.23</td>\n",
              "      <td>1:48</td>\n",
              "      <td>1.000000</td>\n",
              "      <td>NaN</td>\n",
              "      <td>2013</td>\n",
              "      <td>2</td>\n",
              "    </tr>\n",
              "    <tr>\n",
              "      <th>7</th>\n",
              "      <td>2018-08-31 01:18:08</td>\n",
              "      <td>2018-08-31 06:31:26</td>\n",
              "      <td>0.55</td>\n",
              "      <td>5:13</td>\n",
              "      <td>0.000000</td>\n",
              "      <td>NaN</td>\n",
              "      <td>757</td>\n",
              "      <td>4</td>\n",
              "    </tr>\n",
              "    <tr>\n",
              "      <th>8</th>\n",
              "      <td>2018-09-01 05:32:35</td>\n",
              "      <td>2018-09-01 07:32:03</td>\n",
              "      <td>0.15</td>\n",
              "      <td>1:59</td>\n",
              "      <td>0.000000</td>\n",
              "      <td>NaN</td>\n",
              "      <td>1222</td>\n",
              "      <td>5</td>\n",
              "    </tr>\n",
              "    <tr>\n",
              "      <th>9</th>\n",
              "      <td>2018-09-02 01:22:20</td>\n",
              "      <td>2018-09-02 08:02:47</td>\n",
              "      <td>0.71</td>\n",
              "      <td>6:40</td>\n",
              "      <td>1.000000</td>\n",
              "      <td>NaN</td>\n",
              "      <td>1420</td>\n",
              "      <td>6</td>\n",
              "    </tr>\n",
              "    <tr>\n",
              "      <th>10</th>\n",
              "      <td>2018-09-04 01:08:49</td>\n",
              "      <td>2018-09-04 06:25:11</td>\n",
              "      <td>0.54</td>\n",
              "      <td>5:16</td>\n",
              "      <td>-1.000000</td>\n",
              "      <td>NaN</td>\n",
              "      <td>667</td>\n",
              "      <td>1</td>\n",
              "    </tr>\n",
              "    <tr>\n",
              "      <th>11</th>\n",
              "      <td>2018-09-05 01:22:11</td>\n",
              "      <td>2018-09-05 06:41:47</td>\n",
              "      <td>0.60</td>\n",
              "      <td>5:19</td>\n",
              "      <td>1.000000</td>\n",
              "      <td>NaN</td>\n",
              "      <td>1271</td>\n",
              "      <td>2</td>\n",
              "    </tr>\n",
              "    <tr>\n",
              "      <th>12</th>\n",
              "      <td>2018-09-06 01:43:04</td>\n",
              "      <td>2018-09-06 06:17:20</td>\n",
              "      <td>0.49</td>\n",
              "      <td>4:34</td>\n",
              "      <td>1.000000</td>\n",
              "      <td>NaN</td>\n",
              "      <td>1742</td>\n",
              "      <td>3</td>\n",
              "    </tr>\n",
              "    <tr>\n",
              "      <th>13</th>\n",
              "      <td>2018-09-06 06:39:06</td>\n",
              "      <td>2018-09-06 07:42:15</td>\n",
              "      <td>0.14</td>\n",
              "      <td>1:03</td>\n",
              "      <td>0.000000</td>\n",
              "      <td>NaN</td>\n",
              "      <td>0</td>\n",
              "      <td>3</td>\n",
              "    </tr>\n",
              "    <tr>\n",
              "      <th>14</th>\n",
              "      <td>2018-09-07 01:08:47</td>\n",
              "      <td>2018-09-07 06:01:47</td>\n",
              "      <td>0.54</td>\n",
              "      <td>4:53</td>\n",
              "      <td>1.000000</td>\n",
              "      <td>NaN</td>\n",
              "      <td>1194</td>\n",
              "      <td>4</td>\n",
              "    </tr>\n",
              "    <tr>\n",
              "      <th>15</th>\n",
              "      <td>2018-09-07 06:18:29</td>\n",
              "      <td>2018-09-07 07:09:46</td>\n",
              "      <td>0.11</td>\n",
              "      <td>0:51</td>\n",
              "      <td>1.000000</td>\n",
              "      <td>NaN</td>\n",
              "      <td>0</td>\n",
              "      <td>4</td>\n",
              "    </tr>\n",
              "    <tr>\n",
              "      <th>16</th>\n",
              "      <td>2018-09-08 01:41:00</td>\n",
              "      <td>2018-09-08 08:24:45</td>\n",
              "      <td>0.68</td>\n",
              "      <td>6:43</td>\n",
              "      <td>1.000000</td>\n",
              "      <td>NaN</td>\n",
              "      <td>335</td>\n",
              "      <td>5</td>\n",
              "    </tr>\n",
              "    <tr>\n",
              "      <th>17</th>\n",
              "      <td>2018-09-09 02:37:51</td>\n",
              "      <td>2018-09-09 08:42:33</td>\n",
              "      <td>0.61</td>\n",
              "      <td>6:04</td>\n",
              "      <td>1.000000</td>\n",
              "      <td>NaN</td>\n",
              "      <td>1420</td>\n",
              "      <td>6</td>\n",
              "    </tr>\n",
              "    <tr>\n",
              "      <th>18</th>\n",
              "      <td>2018-09-10 07:03:52</td>\n",
              "      <td>2018-09-10 07:59:08</td>\n",
              "      <td>0.12</td>\n",
              "      <td>0:55</td>\n",
              "      <td>1.000000</td>\n",
              "      <td>NaN</td>\n",
              "      <td>0</td>\n",
              "      <td>0</td>\n",
              "    </tr>\n",
              "    <tr>\n",
              "      <th>19</th>\n",
              "      <td>2018-09-10 08:21:32</td>\n",
              "      <td>2018-09-10 08:44:09</td>\n",
              "      <td>0.05</td>\n",
              "      <td>0:22</td>\n",
              "      <td>0.000000</td>\n",
              "      <td>NaN</td>\n",
              "      <td>0</td>\n",
              "      <td>0</td>\n",
              "    </tr>\n",
              "  </tbody>\n",
              "</table>\n",
              "</div>"
            ],
            "text/plain": [
              "                  Start                  End  ...  Activity (steps) Weekday\n",
              "0   2018-08-21 00:17:44  2018-08-21 06:31:59  ...                 0       1\n",
              "1   2018-08-22 00:08:58  2018-08-22 06:48:15  ...                 0       2\n",
              "2   2018-08-23 00:26:59  2018-08-23 05:14:15  ...                 0       3\n",
              "3   2018-08-26 02:22:35  2018-08-26 06:25:43  ...                 0       6\n",
              "4   2018-08-27 00:54:25  2018-08-27 08:24:27  ...                 0       0\n",
              "5   2018-08-28 00:23:26  2018-08-28 06:12:45  ...               291       1\n",
              "6   2018-08-29 05:45:04  2018-08-29 07:33:17  ...              2013       2\n",
              "7   2018-08-31 01:18:08  2018-08-31 06:31:26  ...               757       4\n",
              "8   2018-09-01 05:32:35  2018-09-01 07:32:03  ...              1222       5\n",
              "9   2018-09-02 01:22:20  2018-09-02 08:02:47  ...              1420       6\n",
              "10  2018-09-04 01:08:49  2018-09-04 06:25:11  ...               667       1\n",
              "11  2018-09-05 01:22:11  2018-09-05 06:41:47  ...              1271       2\n",
              "12  2018-09-06 01:43:04  2018-09-06 06:17:20  ...              1742       3\n",
              "13  2018-09-06 06:39:06  2018-09-06 07:42:15  ...                 0       3\n",
              "14  2018-09-07 01:08:47  2018-09-07 06:01:47  ...              1194       4\n",
              "15  2018-09-07 06:18:29  2018-09-07 07:09:46  ...                 0       4\n",
              "16  2018-09-08 01:41:00  2018-09-08 08:24:45  ...               335       5\n",
              "17  2018-09-09 02:37:51  2018-09-09 08:42:33  ...              1420       6\n",
              "18  2018-09-10 07:03:52  2018-09-10 07:59:08  ...                 0       0\n",
              "19  2018-09-10 08:21:32  2018-09-10 08:44:09  ...                 0       0\n",
              "\n",
              "[20 rows x 8 columns]"
            ]
          },
          "metadata": {
            "tags": []
          },
          "execution_count": 451
        }
      ]
    },
    {
      "cell_type": "code",
      "metadata": {
        "id": "hcCLLaQmDqGb",
        "colab_type": "code",
        "colab": {
          "base_uri": "https://localhost:8080/",
          "height": 238
        },
        "outputId": "0da6e122-f3a6-47d8-92ea-f1351255b0a0"
      },
      "source": [
        "sc_sleep_data['Start'] = np.array(sc_sleep_data['Start'], dtype=np.datetime64)\n",
        "sc_sleep_data['End'] = np.array(sc_sleep_data['End'], dtype=np.datetime64)\n",
        "sc_sleep_data.info()\n"
      ],
      "execution_count": 452,
      "outputs": [
        {
          "output_type": "stream",
          "text": [
            "<class 'pandas.core.frame.DataFrame'>\n",
            "RangeIndex: 419 entries, 0 to 418\n",
            "Data columns (total 8 columns):\n",
            "Start               419 non-null datetime64[ns]\n",
            "End                 419 non-null datetime64[ns]\n",
            "Sleep quality       419 non-null float64\n",
            "Time in bed         419 non-null object\n",
            "Wake up             419 non-null float64\n",
            "Sleep Notes         177 non-null object\n",
            "Activity (steps)    419 non-null int64\n",
            "Weekday             419 non-null int64\n",
            "dtypes: datetime64[ns](2), float64(2), int64(2), object(2)\n",
            "memory usage: 26.3+ KB\n"
          ],
          "name": "stdout"
        }
      ]
    },
    {
      "cell_type": "code",
      "metadata": {
        "id": "wLRYeVWkXUC4",
        "colab_type": "code",
        "colab": {}
      },
      "source": [
        "from datetime import datetime"
      ],
      "execution_count": 0,
      "outputs": []
    },
    {
      "cell_type": "code",
      "metadata": {
        "id": "MFhxNHwqXWfr",
        "colab_type": "code",
        "colab": {
          "base_uri": "https://localhost:8080/",
          "height": 34
        },
        "outputId": "5db47e38-f238-4d6d-969f-662a44f10216"
      },
      "source": [
        "datetime_example = datetime.strptime(sc_sleep_data['Time in bed'][0], '%H:%M').time()\n",
        "datetime_example"
      ],
      "execution_count": 463,
      "outputs": [
        {
          "output_type": "execute_result",
          "data": {
            "text/plain": [
              "datetime.time(6, 14)"
            ]
          },
          "metadata": {
            "tags": []
          },
          "execution_count": 463
        }
      ]
    },
    {
      "cell_type": "code",
      "metadata": {
        "id": "pcqMeemfYqxl",
        "colab_type": "code",
        "colab": {
          "base_uri": "https://localhost:8080/",
          "height": 34
        },
        "outputId": "798884f9-3299-40f1-9736-de5f3f47a682"
      },
      "source": [
        "for i in sc_sleep_data['Time in bed']:\n",
        "  datetime.strptime(i, '%H:%M')\n"
      ],
      "execution_count": 469,
      "outputs": [
        {
          "output_type": "stream",
          "text": [
            "<class 'pandas.core.series.Series'>\n"
          ],
          "name": "stdout"
        }
      ]
    }
  ]
}